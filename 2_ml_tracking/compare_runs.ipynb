{
 "cells": [
  {
   "cell_type": "code",
   "execution_count": null,
   "metadata": {
    "ExecuteTime": {
     "end_time": "2020-06-15T04:55:08.380979Z",
     "start_time": "2020-06-15T04:55:05.982964Z"
    }
   },
   "outputs": [],
   "source": [
    "import mlflow\n",
    "import matplotlib.pyplot as plt\n",
    "mlflow.tracking.set_tracking_uri(\"http://127.0.0.1:5000\") # Just in case you didn't set MLFLOW_TRACKING_URI\n",
    "mlflow.set_experiment(\"predicting_wind_solar\")"
   ]
  },
  {
   "cell_type": "markdown",
   "metadata": {},
   "source": [
    "You can access the mlflow data using the high level API like so:"
   ]
  },
  {
   "cell_type": "code",
   "execution_count": null,
   "metadata": {
    "ExecuteTime": {
     "end_time": "2020-06-15T04:55:08.533419Z",
     "start_time": "2020-06-15T04:55:08.384767Z"
    }
   },
   "outputs": [],
   "source": [
    "runs = mlflow.search_runs()\n",
    "runs"
   ]
  },
  {
   "cell_type": "code",
   "execution_count": null,
   "metadata": {
    "ExecuteTime": {
     "end_time": "2020-06-15T04:55:39.876452Z",
     "start_time": "2020-06-15T04:55:39.866850Z"
    }
   },
   "outputs": [],
   "source": [
    "mask = (runs[\"tags.mlflow.runName\"] == \"keras\") & (runs[\"status\"] == \"FINISHED\")\n",
    "keras_ids = runs.loc[mask, \"run_id\"]\n",
    "keras_ids"
   ]
  },
  {
   "cell_type": "code",
   "execution_count": null,
   "metadata": {
    "ExecuteTime": {
     "end_time": "2020-06-15T04:55:43.692033Z",
     "start_time": "2020-06-15T04:55:43.656301Z"
    }
   },
   "outputs": [],
   "source": [
    "for run_id in keras_ids:\n",
    "    run = mlflow.get_run(run_id).data.to_dictionary()\n",
    "    print(run_id)\n",
    "    print(run[\"metrics\"])\n",
    "    print(run[\"params\"])"
   ]
  },
  {
   "cell_type": "markdown",
   "metadata": {},
   "source": [
    "Or you can go one layer down"
   ]
  },
  {
   "cell_type": "code",
   "execution_count": null,
   "metadata": {
    "ExecuteTime": {
     "end_time": "2020-06-15T04:56:00.618560Z",
     "start_time": "2020-06-15T04:56:00.261599Z"
    }
   },
   "outputs": [],
   "source": [
    "client = mlflow.tracking.MlflowClient()\n",
    "for run_id in keras_ids:\n",
    "    history = client.get_metric_history(run_id, \"loss\")\n",
    "    epochs = [h.step for h in history]\n",
    "    loss = [h.value for h in history]\n",
    "    plt.plot(epochs, loss, label=run_id)\n",
    "plt.legend(), plt.xlabel(\"epoch\"), plt.ylabel(\"loss\");"
   ]
  }
 ],
 "metadata": {
  "kernelspec": {
   "display_name": "Python 3",
   "language": "python",
   "name": "python3"
  },
  "language_info": {
   "codemirror_mode": {
    "name": "ipython",
    "version": 3
   },
   "file_extension": ".py",
   "mimetype": "text/x-python",
   "name": "python",
   "nbconvert_exporter": "python",
   "pygments_lexer": "ipython3",
   "version": "3.7.3"
  },
  "nbTranslate": {
   "displayLangs": [
    "*"
   ],
   "hotkey": "alt-t",
   "langInMainMenu": true,
   "sourceLang": "en",
   "targetLang": "fr",
   "useGoogleTranslate": true
  },
  "pycharm": {
   "stem_cell": {
    "cell_type": "raw",
    "metadata": {
     "collapsed": false
    },
    "source": []
   }
  }
 },
 "nbformat": 4,
 "nbformat_minor": 4
}
