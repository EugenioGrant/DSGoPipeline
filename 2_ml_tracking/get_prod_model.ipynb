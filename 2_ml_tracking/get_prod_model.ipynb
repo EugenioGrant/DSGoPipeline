{
 "cells": [
  {
   "cell_type": "markdown",
   "metadata": {},
   "source": [
    "# Retrieving prod models"
   ]
  },
  {
   "cell_type": "code",
   "execution_count": null,
   "metadata": {
    "ExecuteTime": {
     "end_time": "2020-06-15T05:38:59.123701Z",
     "start_time": "2020-06-15T05:38:59.108615Z"
    }
   },
   "outputs": [],
   "source": [
    "from mlflow.tracking.client import MlflowClient\n",
    "import mlflow.pyfunc\n",
    "import mlflow\n",
    "import warnings\n",
    "warnings.filterwarnings(\"ignore\")\n",
    "\n",
    "model_name = \"BestModel\"\n",
    "model_stage = \"Production\"\n",
    "\n",
    "mlflow.tracking.set_tracking_uri(\"http://127.0.0.1:5000\")\n",
    "\n",
    "client = MlflowClient()\n",
    "model_version = client.get_latest_versions(model_name, stages=[model_stage])\n",
    "model_version"
   ]
  },
  {
   "cell_type": "code",
   "execution_count": null,
   "metadata": {
    "ExecuteTime": {
     "end_time": "2020-06-15T05:39:01.075862Z",
     "start_time": "2020-06-15T05:39:01.070625Z"
    }
   },
   "outputs": [],
   "source": [
    "model_version[0].source"
   ]
  },
  {
   "cell_type": "code",
   "execution_count": null,
   "metadata": {
    "ExecuteTime": {
     "end_time": "2020-06-15T05:39:09.058755Z",
     "start_time": "2020-06-15T05:39:08.411789Z"
    }
   },
   "outputs": [],
   "source": [
    "model = mlflow.pyfunc.load_model(model_version[0].source)\n",
    "model"
   ]
  },
  {
   "cell_type": "code",
   "execution_count": null,
   "metadata": {
    "ExecuteTime": {
     "end_time": "2020-06-15T05:39:19.840100Z",
     "start_time": "2020-06-15T05:39:19.636741Z"
    }
   },
   "outputs": [],
   "source": [
    "import pandas as pd\n",
    "pd.plotting.register_matplotlib_converters()\n",
    "\n",
    "input_data = pd.read_csv(\"germany.csv\", parse_dates=[0], index_col=0)[\"2015-01\"]\n",
    "X_test = input_data[[\"windspeed\", \"temperature\", \"rad_horizontal\", \"rad_diffuse\"]]\n",
    "y_test = input_data[[\"solar_GW\", \"wind_GW\"]]\n",
    "x = X_test.index"
   ]
  },
  {
   "cell_type": "code",
   "execution_count": null,
   "metadata": {
    "ExecuteTime": {
     "end_time": "2020-06-15T05:40:04.267454Z",
     "start_time": "2020-06-15T05:40:04.254740Z"
    }
   },
   "outputs": [],
   "source": [
    "# This is the magic! We have a generic model from mlflow models that we can predict on. \n",
    "# We dont know or care about whether it was linear regression, RF, other, we just call predict\n",
    "y_predict = model.predict(X_test)"
   ]
  },
  {
   "cell_type": "code",
   "execution_count": null,
   "metadata": {
    "ExecuteTime": {
     "end_time": "2020-06-15T05:40:06.629121Z",
     "start_time": "2020-06-15T05:40:05.990968Z"
    }
   },
   "outputs": [],
   "source": [
    "import matplotlib.pyplot as plt\n",
    "fig, axes = plt.subplots(nrows=2, figsize=(9, 5), sharex=True)\n",
    "axes[0].plot(x, y_test[\"solar_GW\"], label=\"Actual\")\n",
    "axes[0].plot(x, y_predict[:, 0], label=\"Predicted\")\n",
    "axes[1].plot(x, y_test[\"wind_GW\"], label=\"Actual\")\n",
    "axes[1].plot(x, y_predict[:, 1], label=\"Predicted\")\n",
    "axes[1].legend(), axes[0].set_ylabel(\"Solar GW\"), axes[1].set_ylabel(\"Wind GW\");"
   ]
  }
 ],
 "metadata": {
  "kernelspec": {
   "display_name": "Python 3",
   "language": "python",
   "name": "python3"
  },
  "language_info": {
   "codemirror_mode": {
    "name": "ipython",
    "version": 3
   },
   "file_extension": ".py",
   "mimetype": "text/x-python",
   "name": "python",
   "nbconvert_exporter": "python",
   "pygments_lexer": "ipython3",
   "version": "3.7.3"
  },
  "nbTranslate": {
   "displayLangs": [
    "*"
   ],
   "hotkey": "alt-t",
   "langInMainMenu": true,
   "sourceLang": "en",
   "targetLang": "fr",
   "useGoogleTranslate": true
  }
 },
 "nbformat": 4,
 "nbformat_minor": 4
}
