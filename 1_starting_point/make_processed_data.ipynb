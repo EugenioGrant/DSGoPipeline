{
 "cells": [
  {
   "cell_type": "code",
   "execution_count": null,
   "metadata": {
    "ExecuteTime": {
     "end_time": "2020-06-15T04:44:22.515808Z",
     "start_time": "2020-06-15T04:44:16.484024Z"
    }
   },
   "outputs": [],
   "source": [
    "import pandas as pd\n",
    "pd.options.plotting.backend = \"plotly\"\n",
    "import seaborn as sb\n",
    "import warnings\n",
    "warnings.filterwarnings(\"ignore\")"
   ]
  },
  {
   "cell_type": "markdown",
   "metadata": {},
   "source": [
    "# Power Generation Data\n",
    "\n",
    "\n",
    "\n",
    "Data from [Open Power System Data](https://data.open-power-system-data.org/time_series/). Direct link to the specific file [here](https://data.open-power-system-data.org/time_series/2019-06-05/time_series_60min_singleindex.csv). https://bit.ly/2AGlXQw for anyone without the notebook.\n",
    "\n",
    "**Open Power System Data.** 2019. Data Package Time series. *Version 2019-06-05.* https://doi.org/10.25832/time_series/2019-06-05."
   ]
  },
  {
   "cell_type": "code",
   "execution_count": null,
   "metadata": {
    "ExecuteTime": {
     "end_time": "2020-06-15T04:44:22.731347Z",
     "start_time": "2020-06-15T04:44:22.517952Z"
    }
   },
   "outputs": [],
   "source": [
    "df_power_all = pd.read_csv(\"https://data.open-power-system-data.org/time_series/2019-06-05/time_series_60min_singleindex.csv\", parse_dates=[0], index_col=0)"
   ]
  },
  {
   "cell_type": "code",
   "execution_count": null,
   "metadata": {
    "ExecuteTime": {
     "end_time": "2020-06-15T04:44:22.734836Z",
     "start_time": "2020-06-15T04:44:16.491Z"
    }
   },
   "outputs": [],
   "source": [
    "df_power_all.head()"
   ]
  },
  {
   "cell_type": "code",
   "execution_count": null,
   "metadata": {
    "ExecuteTime": {
     "end_time": "2020-06-15T04:44:22.736094Z",
     "start_time": "2020-06-15T04:44:16.494Z"
    }
   },
   "outputs": [],
   "source": [
    "df_power_germany = df_power_all[[\"DE_solar_generation_actual\", \"DE_wind_generation_actual\"]]\n",
    "df_power_germany"
   ]
  },
  {
   "cell_type": "code",
   "execution_count": null,
   "metadata": {
    "ExecuteTime": {
     "end_time": "2020-06-15T04:44:22.737826Z",
     "start_time": "2020-06-15T04:44:16.496Z"
    }
   },
   "outputs": [],
   "source": [
    "df_power_germany.plot()"
   ]
  },
  {
   "cell_type": "code",
   "execution_count": null,
   "metadata": {
    "ExecuteTime": {
     "end_time": "2020-06-15T04:44:22.739246Z",
     "start_time": "2020-06-15T04:44:16.497Z"
    }
   },
   "outputs": [],
   "source": [
    "df_power_restricted = df_power_germany[\"2013\":]\n",
    "df_power_restricted.columns = [\"solar_MW\", \"wind_MW\"]\n",
    "df_power_restricted.plot();"
   ]
  },
  {
   "cell_type": "code",
   "execution_count": null,
   "metadata": {
    "ExecuteTime": {
     "end_time": "2020-06-15T04:44:22.741830Z",
     "start_time": "2020-06-15T04:44:16.499Z"
    }
   },
   "outputs": [],
   "source": [
    "fig = df_power_restricted[\"2015\"].rolling(24 * 7, center=True).mean().plot();\n",
    "fig.show()"
   ]
  },
  {
   "cell_type": "markdown",
   "metadata": {},
   "source": [
    "# Weather Data\n",
    "\n",
    "Again, data from [Open Power System Data](https://data.open-power-system-data.org/weather_data/). Direct link to the specific file [here](https://data.open-power-system-data.org/weather_data/opsd-weather_data-2019-04-09.zip). https://bit.ly/2U7TGJU for anyone without the notebook.\n",
    "\n",
    "**Open Power System Data.** 2019. Data Package Weather Data. *Version 2019-04-09.* https://doi.org/10.25832/weather_data/2019-04-09."
   ]
  },
  {
   "cell_type": "code",
   "execution_count": null,
   "metadata": {},
   "outputs": [],
   "source": [
    "import requests, zipfile, io\n",
    "r = requests.get(\"https://data.open-power-system-data.org/weather_data/opsd-weather_data-2019-04-09.zip\")\n",
    "z = zipfile.ZipFile(io.BytesIO(r.content))\n",
    "z.extractall()"
   ]
  },
  {
   "cell_type": "code",
   "execution_count": null,
   "metadata": {
    "ExecuteTime": {
     "end_time": "2020-06-15T04:44:22.743683Z",
     "start_time": "2020-06-15T04:44:16.501Z"
    }
   },
   "outputs": [],
   "source": [
    "df_all_weather = pd.read_csv(\"opsd-weather_data-2019-04-09/weather_data.csv\", parse_dates=[0], index_col=0)\n",
    "df_all_weather.head()"
   ]
  },
  {
   "cell_type": "code",
   "execution_count": null,
   "metadata": {
    "ExecuteTime": {
     "end_time": "2020-06-15T04:44:22.745373Z",
     "start_time": "2020-06-15T04:44:16.504Z"
    },
    "scrolled": true
   },
   "outputs": [],
   "source": [
    "df_weather_germany = df_all_weather.loc[\"2013\":, [\"DE_windspeed_10m\", \"DE_temperature\", \"DE_radiation_direct_horizontal\", \"DE_radiation_diffuse_horizontal\"]]\n",
    "df_weather_germany"
   ]
  },
  {
   "cell_type": "code",
   "execution_count": null,
   "metadata": {
    "ExecuteTime": {
     "end_time": "2020-06-15T04:44:22.746609Z",
     "start_time": "2020-06-15T04:44:16.506Z"
    }
   },
   "outputs": [],
   "source": [
    "df_weather_germany[\"DE_temperature\"].plot();"
   ]
  },
  {
   "cell_type": "code",
   "execution_count": null,
   "metadata": {
    "ExecuteTime": {
     "end_time": "2020-06-15T04:44:22.747992Z",
     "start_time": "2020-06-15T04:44:16.508Z"
    }
   },
   "outputs": [],
   "source": [
    "pd.plotting.scatter_matrix(df_weather_germany[\"2015\"], figsize=(9,9));"
   ]
  },
  {
   "cell_type": "markdown",
   "metadata": {},
   "source": [
    "# Combining the data\n",
    "\n",
    "Because our data comes from the same source, we're fortunate its already on the same index and we can just join. Otherwise we'd probably make use of aggregating to the coarsest scale or using `merge_asof`."
   ]
  },
  {
   "cell_type": "code",
   "execution_count": null,
   "metadata": {
    "ExecuteTime": {
     "end_time": "2020-06-15T04:44:22.749800Z",
     "start_time": "2020-06-15T04:44:16.511Z"
    }
   },
   "outputs": [],
   "source": [
    "df_combined_germany = df_power_restricted.join(df_weather_germany)\n",
    "df_combined_germany"
   ]
  },
  {
   "cell_type": "code",
   "execution_count": null,
   "metadata": {
    "ExecuteTime": {
     "end_time": "2020-06-15T04:44:22.751326Z",
     "start_time": "2020-06-15T04:44:16.512Z"
    }
   },
   "outputs": [],
   "source": [
    "df_combined_germany.info()"
   ]
  },
  {
   "cell_type": "code",
   "execution_count": null,
   "metadata": {
    "ExecuteTime": {
     "end_time": "2020-06-15T04:44:22.753956Z",
     "start_time": "2020-06-15T04:44:16.514Z"
    }
   },
   "outputs": [],
   "source": [
    "# And for simplicity, lets dropna instead of trying some fancy imputation or augmentation\n",
    "df_final = df_combined_germany.dropna()\n",
    "df_final.loc[:, \"solar_MW\"] *= 0.001\n",
    "df_final.loc[:, \"wind_MW\"] *= 0.001\n",
    "df_final.columns = [\"solar_GW\", \"wind_GW\", \"windspeed\", \"temperature\", \"rad_horizontal\", \"rad_diffuse\"]\n",
    "df_final"
   ]
  },
  {
   "cell_type": "code",
   "execution_count": null,
   "metadata": {
    "ExecuteTime": {
     "end_time": "2020-06-15T04:44:22.755603Z",
     "start_time": "2020-06-15T04:44:16.517Z"
    }
   },
   "outputs": [],
   "source": [
    "sb.pairplot(data=df_final);"
   ]
  },
  {
   "cell_type": "code",
   "execution_count": null,
   "metadata": {
    "ExecuteTime": {
     "end_time": "2020-06-15T04:44:22.757427Z",
     "start_time": "2020-06-15T04:44:16.518Z"
    }
   },
   "outputs": [],
   "source": [
    "df_final.to_csv(\"germany.csv\")"
   ]
  }
 ],
 "metadata": {
  "kernelspec": {
   "display_name": "Python 3",
   "language": "python",
   "name": "python3"
  },
  "language_info": {
   "codemirror_mode": {
    "name": "ipython",
    "version": 3
   },
   "file_extension": ".py",
   "mimetype": "text/x-python",
   "name": "python",
   "nbconvert_exporter": "python",
   "pygments_lexer": "ipython3",
   "version": "3.7.3"
  },
  "nbTranslate": {
   "displayLangs": [
    "*"
   ],
   "hotkey": "alt-t",
   "langInMainMenu": true,
   "sourceLang": "en",
   "targetLang": "fr",
   "useGoogleTranslate": true
  }
 },
 "nbformat": 4,
 "nbformat_minor": 4
}
