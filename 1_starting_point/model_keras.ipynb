{
 "cells": [
  {
   "cell_type": "code",
   "execution_count": 1,
   "metadata": {
    "ExecuteTime": {
     "end_time": "2020-06-15T04:45:21.802879Z",
     "start_time": "2020-06-15T04:44:54.246587Z"
    }
   },
   "outputs": [
    {
     "ename": "ModuleNotFoundError",
     "evalue": "No module named 'keras'",
     "output_type": "error",
     "traceback": [
      "\u001b[0;31m---------------------------------------------------------------------------\u001b[0m",
      "\u001b[0;31mModuleNotFoundError\u001b[0m                       Traceback (most recent call last)",
      "\u001b[0;32m<ipython-input-1-a075aa2058d1>\u001b[0m in \u001b[0;36m<module>\u001b[0;34m\u001b[0m\n\u001b[1;32m      8\u001b[0m \u001b[0;32mimport\u001b[0m \u001b[0mmatplotlib\u001b[0m\u001b[0;34m.\u001b[0m\u001b[0mpyplot\u001b[0m \u001b[0;32mas\u001b[0m \u001b[0mplt\u001b[0m\u001b[0;34m\u001b[0m\u001b[0;34m\u001b[0m\u001b[0m\n\u001b[1;32m      9\u001b[0m \u001b[0;32mimport\u001b[0m \u001b[0mplotly\u001b[0m\u001b[0;34m.\u001b[0m\u001b[0mexpress\u001b[0m \u001b[0;32mas\u001b[0m \u001b[0mpx\u001b[0m\u001b[0;34m\u001b[0m\u001b[0;34m\u001b[0m\u001b[0m\n\u001b[0;32m---> 10\u001b[0;31m \u001b[0;32mfrom\u001b[0m \u001b[0mkeras\u001b[0m\u001b[0;34m.\u001b[0m\u001b[0mcallbacks\u001b[0m \u001b[0;32mimport\u001b[0m \u001b[0mCallback\u001b[0m\u001b[0;34m\u001b[0m\u001b[0;34m\u001b[0m\u001b[0m\n\u001b[0m\u001b[1;32m     11\u001b[0m \u001b[0;34m\u001b[0m\u001b[0m\n\u001b[1;32m     12\u001b[0m \u001b[0;34m\u001b[0m\u001b[0m\n",
      "\u001b[0;31mModuleNotFoundError\u001b[0m: No module named 'keras'"
     ]
    }
   ],
   "source": [
    "import pandas as pd\n",
    "import numpy as np\n",
    "from sklearn.model_selection import train_test_split\n",
    "from sklearn.metrics import mean_squared_error, mean_absolute_error, r2_score\n",
    "import tensorflow as tf\n",
    "from tensorflow import keras\n",
    "from tensorflow.keras import layers, metrics\n",
    "import matplotlib.pyplot as plt\n",
    "import plotly.express as px\n",
    "\n",
    "\n",
    "def eval_metrics(actual, pred):\n",
    "    rmse = np.sqrt(mean_squared_error(actual, pred))\n",
    "    mae = mean_absolute_error(actual, pred)\n",
    "    r2 = r2_score(actual, pred)\n",
    "    return rmse, mae, r2"
   ]
  },
  {
   "cell_type": "code",
   "execution_count": null,
   "metadata": {
    "ExecuteTime": {
     "end_time": "2020-06-15T04:45:21.822513Z",
     "start_time": "2020-06-15T04:44:54.249Z"
    }
   },
   "outputs": [],
   "source": [
    "df = pd.read_csv(\"germany.csv\", parse_dates=[0], index_col=0)\n",
    "df.head()"
   ]
  },
  {
   "cell_type": "code",
   "execution_count": null,
   "metadata": {
    "ExecuteTime": {
     "end_time": "2020-06-15T04:45:21.825075Z",
     "start_time": "2020-06-15T04:44:54.253Z"
    }
   },
   "outputs": [],
   "source": [
    "X = df[[\"windspeed\", \"temperature\", \"rad_horizontal\", \"rad_diffuse\"]]\n",
    "y = df[[\"solar_GW\", \"wind_GW\"]]\n",
    "X_train, X_test, y_train, y_test = train_test_split(X, y, test_size=0.2, random_state=42)\n",
    "tf.random.set_seed(42)"
   ]
  },
  {
   "cell_type": "markdown",
   "metadata": {},
   "source": [
    "Lets not even use an sklearn model, we'll make something very simple with Keras."
   ]
  },
  {
   "cell_type": "code",
   "execution_count": null,
   "metadata": {
    "ExecuteTime": {
     "end_time": "2020-06-15T04:45:21.829355Z",
     "start_time": "2020-06-15T04:44:54.255Z"
    }
   },
   "outputs": [],
   "source": [
    "def get_model():\n",
    "    model = keras.Sequential([\n",
    "        layers.Dense(32, activation='relu', input_shape=[X_train.shape[1]]),\n",
    "        layers.Dense(32, activation='relu'),\n",
    "        layers.Dense(2)\n",
    "      ])\n",
    "    optimizer = tf.keras.optimizers.Adam(lr=0.001)\n",
    "    model.compile(loss='mse', optimizer=optimizer, metrics=[\n",
    "        metrics.RootMeanSquaredError(),\n",
    "        metrics.MeanAbsoluteError()\n",
    "    ])\n",
    "    return model\n",
    "\n",
    "model = get_model()\n",
    "model.summary()"
   ]
  },
  {
   "cell_type": "code",
   "execution_count": null,
   "metadata": {
    "ExecuteTime": {
     "end_time": "2020-06-15T04:45:21.833863Z",
     "start_time": "2020-06-15T04:44:54.258Z"
    },
    "scrolled": true
   },
   "outputs": [],
   "source": [
    "history = model.fit(X_train, y_train, epochs=50, batch_size=256, validation_split=0.2)"
   ]
  },
  {
   "cell_type": "code",
   "execution_count": null,
   "metadata": {
    "ExecuteTime": {
     "end_time": "2020-06-15T04:45:21.835963Z",
     "start_time": "2020-06-15T04:44:54.261Z"
    }
   },
   "outputs": [],
   "source": [
    "fig, axes = plt.subplots(ncols=3, figsize=(10, 4))\n",
    "axes[0].plot(history.history[\"loss\"])\n",
    "axes[1].plot(history.history[\"root_mean_squared_error\"])\n",
    "axes[2].plot(history.history[\"mean_absolute_error\"])\n",
    "axes[0].set_title(\"loss\"), axes[1].set_title(\"RMSE\"), axes[2].set_title(\"MAE\");"
   ]
  },
  {
   "cell_type": "code",
   "execution_count": null,
   "metadata": {
    "ExecuteTime": {
     "end_time": "2020-06-15T04:45:21.838576Z",
     "start_time": "2020-06-15T04:44:54.264Z"
    }
   },
   "outputs": [],
   "source": [
    "y_predict = model.predict(X_test)\n",
    "rmse, mae, r2 = eval_metrics(y_test, y_predict)\n",
    "\n",
    "print(f\"RMSE: {rmse:0.2f}\")\n",
    "print(f\"MAE: {mae:0.2f}\")\n",
    "print(f\"r2: {r2:0.2f}\")"
   ]
  },
  {
   "cell_type": "code",
   "execution_count": null,
   "metadata": {
    "ExecuteTime": {
     "end_time": "2020-06-15T04:45:21.841580Z",
     "start_time": "2020-06-15T04:44:54.266Z"
    }
   },
   "outputs": [],
   "source": [
    "fig = px.scatter(x=y_test[\"solar_GW\"], y=y_predict[:, 0], \n",
    "                 color=X_test[\"temperature\"], range_color=[-5, 25],\n",
    "                 color_continuous_scale='Inferno')\n",
    "fig.update_layout(xaxis_title=\"Actual Solar\", \n",
    "                  yaxis_title=\"Predicted Solar\", \n",
    "                  coloraxis_colorbar=dict(title=\"temperature\"))\n",
    "fig.show()"
   ]
  },
  {
   "cell_type": "code",
   "execution_count": null,
   "metadata": {
    "ExecuteTime": {
     "end_time": "2020-06-15T04:45:21.847544Z",
     "start_time": "2020-06-15T04:44:54.271Z"
    }
   },
   "outputs": [],
   "source": [
    "fig = px.scatter(x=y_test[\"wind_GW\"], y=y_predict[:, 1], \n",
    "                 color=X_test[\"windspeed\"], range_color=[0, 8],\n",
    "                 color_continuous_scale='Inferno')\n",
    "fig.update_layout(xaxis_title=\"Actual Wind\", \n",
    "                  yaxis_title=\"Predicted Wind\",\n",
    "                  coloraxis_colorbar=dict(title=\"windspeed\"))\n",
    "fig.show()"
   ]
  },
  {
   "cell_type": "code",
   "execution_count": null,
   "metadata": {},
   "outputs": [],
   "source": []
  }
 ],
 "metadata": {
  "kernelspec": {
   "display_name": "Python 3",
   "language": "python",
   "name": "python3"
  },
  "language_info": {
   "codemirror_mode": {
    "name": "ipython",
    "version": 3
   },
   "file_extension": ".py",
   "mimetype": "text/x-python",
   "name": "python",
   "nbconvert_exporter": "python",
   "pygments_lexer": "ipython3",
   "version": "3.6.8"
  },
  "pycharm": {
   "stem_cell": {
    "cell_type": "raw",
    "source": [],
    "metadata": {
     "collapsed": false
    }
   }
  }
 },
 "nbformat": 4,
 "nbformat_minor": 4
}